{
 "cells": [
  {
   "cell_type": "code",
   "execution_count": 2,
   "metadata": {},
   "outputs": [],
   "source": [
    "# import bayesopt\n",
    "import gpbayesopt as bayesopt\n",
    "import numpy as np\n",
    "from functools import partial\n",
    "\n",
    "import matplotlib.pyplot as plt"
   ]
  },
  {
   "cell_type": "code",
   "execution_count": 3,
   "metadata": {},
   "outputs": [],
   "source": [
    "def f(x):\n",
    "    return x*np.sin(x)"
   ]
  },
  {
   "cell_type": "code",
   "execution_count": 7,
   "metadata": {},
   "outputs": [
    {
     "name": "stderr",
     "output_type": "stream",
     "text": [
      "/usr/local/lib/python3.7/site-packages/jax/lib/xla_bridge.py:119: UserWarning: No GPU/TPU found, falling back to CPU.\n",
      "  warnings.warn('No GPU/TPU found, falling back to CPU.')\n",
      "BayesOpt: 100%|██████████| 50/50 [00:44<00:00,  1.12it/s, param:[1.02207053], value:0.8720201952198819, current best param:[17.33688331], current best_value:-17.307606382756944]  \n"
     ]
    }
   ],
   "source": [
    "# %%timeit\n",
    "BO = bayesopt.BayesOpt(f=f,\n",
    "                       initial_input=np.array([0.]),\n",
    "                       acq=bayesopt.acquisition.LCB,\n",
    "                       acq_optim=bayesopt.acquisition_optimizer.Acquisition_L_BFGS_B_Optimizer(bounds=np.array([0,18])))\n",
    "BO.run_optim(50)"
   ]
  },
  {
   "cell_type": "markdown",
   "metadata": {},
   "source": [
    "# GPyOpt"
   ]
  },
  {
   "cell_type": "code",
   "execution_count": 8,
   "metadata": {},
   "outputs": [],
   "source": [
    "import GPyOpt"
   ]
  },
  {
   "cell_type": "code",
   "execution_count": 9,
   "metadata": {},
   "outputs": [],
   "source": [
    "bounds = [{'name': 'x1', 'type': 'continuous', 'domain': (0,18)}]\n",
    "myBopt = GPyOpt.methods.BayesianOptimization(f=f, X=np.array([[0.]]),domain=bounds,acquisition_type='LCB',)\n",
    "myBopt.run_optimization(max_iter=50,eps=0)"
   ]
  },
  {
   "cell_type": "markdown",
   "metadata": {},
   "source": [
    "## vs"
   ]
  },
  {
   "cell_type": "code",
   "execution_count": 10,
   "metadata": {},
   "outputs": [
    {
     "data": {
      "text/plain": [
       "<matplotlib.legend.Legend at 0x7f0590a6c390>"
      ]
     },
     "execution_count": 10,
     "metadata": {},
     "output_type": "execute_result"
    },
    {
     "data": {
      "image/png": "[encoded data removed]",
      "text/plain": [
       "<Figure size 432x288 with 1 Axes>"
      ]
     },
     "metadata": {
      "needs_background": "light"
     },
     "output_type": "display_data"
    }
   ],
   "source": [
    "bayesopt.plot_history(BO)\n",
    "# plt.yscale('log')\n",
    "plt.plot([np.min(myBopt.Y[:i+1]) for i in range(50)],label='GpyOpt')\n",
    "plt.plot(myBopt.Y,'x',label='GpyOpt')\n",
    "plt.legend()"
   ]
  },
  {
   "cell_type": "markdown",
   "metadata": {},
   "source": [
    "# Speed test\n"
   ]
  },
  {
   "cell_type": "code",
   "execution_count": 15,
   "metadata": {},
   "outputs": [
    {
     "name": "stderr",
     "output_type": "stream",
     "text": [
      "BayesOpt: 100%|██████████| 50/50 [00:09<00:00,  5.21it/s, param:[11.1590797], value:-11.010248187218357, current best param:[17.33607234], current best_value:-17.307607794400848] "
     ]
    },
    {
     "name": "stdout",
     "output_type": "stream",
     "text": [
      "CPU times: user 11.1 s, sys: 12.9 s, total: 24 s\n",
      "Wall time: 9.6 s\n"
     ]
    },
    {
     "name": "stderr",
     "output_type": "stream",
     "text": [
      "\n"
     ]
    }
   ],
   "source": [
    "BO = bayesopt.BayesOpt(f=f,\n",
    "                       initial_input=np.array([0.]),\n",
    "                       acq=partial(bayesopt.acquisition.LCB,kappa=5.),\n",
    "                       acq_optim=bayesopt.acquisition_optimizer.Acquisition_SLSQP_Optimizer(bounds=np.array([0,18])))\n",
    "%time BO.run_optim(50)"
   ]
  },
  {
   "cell_type": "code",
   "execution_count": 17,
   "metadata": {},
   "outputs": [
    {
     "name": "stdout",
     "output_type": "stream",
     "text": [
      "CPU times: user 45.8 s, sys: 22.8 s, total: 1min 8s\n",
      "Wall time: 18.1 s\n"
     ]
    }
   ],
   "source": [
    "bounds = [{'name': 'x1', 'type': 'continuous', 'domain': (0,18)}]\n",
    "myBopt = GPyOpt.methods.BayesianOptimization(f=f, X=np.array([[0]]),domain=bounds,acquisition_type='LCB')\n",
    "%time myBopt.run_optimization(max_iter=50,eps=0)"
   ]
  },
  {
   "cell_type": "code",
   "execution_count": 19,
   "metadata": {},
   "outputs": [
    {
     "data": {
      "text/plain": [
       "1.885416666666667"
      ]
     },
     "execution_count": 19,
     "metadata": {},
     "output_type": "execute_result"
    }
   ],
   "source": [
    "18.1/9.6"
   ]
  },
  {
   "cell_type": "markdown",
   "metadata": {},
   "source": [
    "低い次元ならGridで20倍くらい。   \n",
    "同じアルゴリズム(L-BFGS)だと3倍程度. GpyOptのようにGrad入れたらもっと早いかも?"
   ]
  }
 ],
 "metadata": {
  "kernelspec": {
   "display_name": "Python 3",
   "language": "python",
   "name": "python3"
  },
  "language_info": {
   "codemirror_mode": {
    "name": "ipython",
    "version": 3
   },
   "file_extension": ".py",
   "mimetype": "text/x-python",
   "name": "python",
   "nbconvert_exporter": "python",
   "pygments_lexer": "ipython3",
   "version": "3.7.0"
  }
 },
 "nbformat": 4,
 "nbformat_minor": 4
}
