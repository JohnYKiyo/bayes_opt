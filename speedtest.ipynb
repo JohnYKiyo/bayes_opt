{
 "cells": [
  {
   "cell_type": "code",
   "execution_count": 15,
   "metadata": {},
   "outputs": [],
   "source": [
    "import bayesopt\n",
    "import numpy as np\n",
    "from functools import partial\n",
    "\n",
    "import matplotlib.pyplot as plt"
   ]
  },
  {
   "cell_type": "code",
   "execution_count": 16,
   "metadata": {},
   "outputs": [],
   "source": [
    "def f(x):\n",
    "    return -x*np.sin(x)"
   ]
  },
  {
   "cell_type": "code",
   "execution_count": 19,
   "metadata": {},
   "outputs": [
    {
     "name": "stderr",
     "output_type": "stream",
     "text": [
      "BayesOpt: 100%|██████████| 50/50 [00:09<00:00,  5.30it/s, param:[8.02040291], value:-7.909592309920059, current best param:[14.20486216], current best_value:-14.17232668395356]  \n"
     ]
    }
   ],
   "source": [
    "# %%timeit\n",
    "BO = bayesopt.BayesOpt(f=f,\n",
    "                       initial_input=np.array([0.]),\n",
    "                       acq=bayesopt.acquisition.LCB,\n",
    "                       acq_optim=partial(bayesopt.acquisition_optimizer.AcquisitionSLSQPOptimizer,\n",
    "                                         bounds=np.array([0,18])))\n",
    "BO.run_optim(50)"
   ]
  },
  {
   "cell_type": "markdown",
   "metadata": {},
   "source": [
    "# GPyOpt"
   ]
  },
  {
   "cell_type": "code",
   "execution_count": 8,
   "metadata": {},
   "outputs": [],
   "source": [
    "import GPyOpt"
   ]
  },
  {
   "cell_type": "code",
   "execution_count": 27,
   "metadata": {},
   "outputs": [],
   "source": [
    "bounds = [{'name': 'x1', 'type': 'continuous', 'domain': (0,18)}]\n",
    "myBopt = GPyOpt.methods.BayesianOptimization(f=f, X=np.array([[0.]]),domain=bounds,acquisition_type='LCB')\n",
    "myBopt.run_optimization(max_iter=50)"
   ]
  },
  {
   "cell_type": "markdown",
   "metadata": {},
   "source": [
    "## vs"
   ]
  },
  {
   "cell_type": "code",
   "execution_count": 28,
   "metadata": {},
   "outputs": [
    {
     "data": {
      "text/plain": [
       "<matplotlib.legend.Legend at 0x7f2b9595d400>"
      ]
     },
     "execution_count": 28,
     "metadata": {},
     "output_type": "execute_result"
    },
    {
     "data": {
      "image/png": "[encoded data removed]",
      "text/plain": [
       "<Figure size 432x288 with 1 Axes>"
      ]
     },
     "metadata": {
      "needs_background": "light"
     },
     "output_type": "display_data"
    }
   ],
   "source": [
    "bayesopt.plot_history(BO)\n",
    "# plt.yscale('log')\n",
    "plt.plot([np.min(myBopt.Y[:i+1]) for i in range(50)],label='GpyOpt')\n",
    "plt.plot(myBopt.Y,'x',label='GpyOpt')\n",
    "plt.legend()"
   ]
  },
  {
   "cell_type": "markdown",
   "metadata": {},
   "source": [
    "# Speed test\n"
   ]
  },
  {
   "cell_type": "code",
   "execution_count": 38,
   "metadata": {},
   "outputs": [
    {
     "name": "stderr",
     "output_type": "stream",
     "text": [
      "BayesOpt: 100%|██████████| 50/50 [00:06<00:00,  8.12it/s, param:[14.16829261], value:-14.16142999343992, current best param:[14.20601281], current best_value:-14.17235960497435]  \n",
      "BayesOpt: 100%|██████████| 50/50 [00:06<00:00,  7.30it/s, param:[14.22042214], value:-14.171166683260461, current best param:[14.20696497], current best_value:-14.172372521111484]\n",
      "BayesOpt: 100%|██████████| 50/50 [00:06<00:00,  7.17it/s, param:[14.1994711], value:-14.17192020211614, current best param:[14.20461458], current best_value:-14.172317124046241]  \n",
      "BayesOpt: 100%|██████████| 50/50 [00:05<00:00,  8.56it/s, param:[7.88625443], value:-7.882147890311402, current best param:[14.20790123], current best_value:-14.172372569659998]  \n",
      "BayesOpt: 100%|██████████| 50/50 [00:06<00:00,  7.72it/s, param:[7.79423514], value:-7.7803279632356945, current best param:[14.20893528], current best_value:-14.172358041742665] \n",
      "BayesOpt: 100%|██████████| 50/50 [00:07<00:00,  7.03it/s, param:[1.33545395], value:-1.2986415836986063, current best param:[14.20285306], current best_value:-14.172223790507353] \n",
      "BayesOpt: 100%|██████████| 50/50 [00:07<00:00,  6.89it/s, param:[14.2745556], value:-14.140046662319866, current best param:[14.20732411], current best_value:-14.172374023012743] \n",
      "BayesOpt: 100%|██████████| 50/50 [00:06<00:00,  7.74it/s, param:[7.96608741], value:-7.916082095845288, current best param:[14.20874219], current best_value:-14.172361916852243]  "
     ]
    },
    {
     "name": "stdout",
     "output_type": "stream",
     "text": [
      "6.73 s ± 445 ms per loop (mean ± std. dev. of 7 runs, 1 loop each)\n"
     ]
    },
    {
     "name": "stderr",
     "output_type": "stream",
     "text": [
      "\n"
     ]
    }
   ],
   "source": [
    "%%timeit\n",
    "BO = bayesopt.BayesOpt(f=f,\n",
    "                       initial_input=np.array([0.]),\n",
    "                       acq=bayesopt.acquisition.LCB,\n",
    "                       acq_optim=partial(bayesopt.acquisition_optimizer.AcquisitionSLSQPOptimizer,\n",
    "                                         bounds=np.array([0,18])))\n",
    "BO.run_optim(50)"
   ]
  },
  {
   "cell_type": "code",
   "execution_count": 39,
   "metadata": {},
   "outputs": [
    {
     "name": "stdout",
     "output_type": "stream",
     "text": [
      "18.8 s ± 760 ms per loop (mean ± std. dev. of 7 runs, 1 loop each)\n"
     ]
    }
   ],
   "source": [
    "%%timeit\n",
    "bounds = [{'name': 'x1', 'type': 'continuous', 'domain': (0,18)}]\n",
    "myBopt = GPyOpt.methods.BayesianOptimization(f=f, X=np.array([[0]]),domain=bounds,acquisition_type='LCB')\n",
    "myBopt.run_optimization(max_iter=50)"
   ]
  },
  {
   "cell_type": "code",
   "execution_count": 40,
   "metadata": {},
   "outputs": [
    {
     "data": {
      "text/plain": [
       "2.7934621099554233"
      ]
     },
     "execution_count": 40,
     "metadata": {},
     "output_type": "execute_result"
    }
   ],
   "source": []
  }
 ],
 "metadata": {
  "kernelspec": {
   "display_name": "Python 3",
   "language": "python",
   "name": "python3"
  },
  "language_info": {
   "codemirror_mode": {
    "name": "ipython",
    "version": 3
   },
   "file_extension": ".py",
   "mimetype": "text/x-python",
   "name": "python",
   "nbconvert_exporter": "python",
   "pygments_lexer": "ipython3",
   "version": "3.7.0"
  }
 },
 "nbformat": 4,
 "nbformat_minor": 4
}
