{
 "cells": [
  {
   "cell_type": "code",
   "execution_count": 2,
   "metadata": {},
   "outputs": [],
   "source": [
    "import bayesopt\n",
    "import numpy as np\n",
    "from functools import partial\n",
    "\n",
    "import matplotlib.pyplot as plt"
   ]
  },
  {
   "cell_type": "code",
   "execution_count": 3,
   "metadata": {},
   "outputs": [],
   "source": [
    "def f(x):\n",
    "    return x*np.sin(x)"
   ]
  },
  {
   "cell_type": "code",
   "execution_count": 4,
   "metadata": {},
   "outputs": [
    {
     "name": "stderr",
     "output_type": "stream",
     "text": [
      "/usr/local/lib/python3.7/site-packages/jax/lib/xla_bridge.py:119: UserWarning: No GPU/TPU found, falling back to CPU.\n",
      "  warnings.warn('No GPU/TPU found, falling back to CPU.')\n",
      "BayesOpt: 100%|██████████| 50/50 [00:27<00:00,  1.80it/s, param:[11.14249079], value:-11.022454617672523, current best param:[17.34037027], current best_value:-17.307469737476495]\n"
     ]
    }
   ],
   "source": [
    "# %%timeit\n",
    "BO = bayesopt.BayesOpt(f=f,\n",
    "                       initial_input=np.array([0.]),\n",
    "                       acq=bayesopt.acquisition.LCB,\n",
    "                       acq_optim=partial(bayesopt.acquisition_optimizer.AcquisitionSLSQPOptimizer,\n",
    "                                         bounds=np.array([0,18])))\n",
    "BO.run_optim(50)"
   ]
  },
  {
   "cell_type": "markdown",
   "metadata": {},
   "source": [
    "# GPyOpt"
   ]
  },
  {
   "cell_type": "code",
   "execution_count": 5,
   "metadata": {},
   "outputs": [],
   "source": [
    "import GPyOpt"
   ]
  },
  {
   "cell_type": "code",
   "execution_count": 6,
   "metadata": {},
   "outputs": [],
   "source": [
    "bounds = [{'name': 'x1', 'type': 'continuous', 'domain': (0,18)}]\n",
    "myBopt = GPyOpt.methods.BayesianOptimization(f=f, X=np.array([[0.]]),domain=bounds,acquisition_type='LCB',)\n",
    "myBopt.run_optimization(max_iter=50,eps=0)"
   ]
  },
  {
   "cell_type": "markdown",
   "metadata": {},
   "source": [
    "## vs"
   ]
  },
  {
   "cell_type": "code",
   "execution_count": 7,
   "metadata": {},
   "outputs": [
    {
     "data": {
      "text/plain": [
       "<matplotlib.legend.Legend at 0x7f17e1f19668>"
      ]
     },
     "execution_count": 7,
     "metadata": {},
     "output_type": "execute_result"
    },
    {
     "data": {
      "image/png": "[encoded data removed]",
      "text/plain": [
       "<Figure size 432x288 with 1 Axes>"
      ]
     },
     "metadata": {
      "needs_background": "light"
     },
     "output_type": "display_data"
    }
   ],
   "source": [
    "bayesopt.plot_history(BO)\n",
    "# plt.yscale('log')\n",
    "plt.plot([np.min(myBopt.Y[:i+1]) for i in range(50)],label='GpyOpt')\n",
    "plt.plot(myBopt.Y,'x',label='GpyOpt')\n",
    "plt.legend()"
   ]
  },
  {
   "cell_type": "markdown",
   "metadata": {},
   "source": [
    "# Speed test\n"
   ]
  },
  {
   "cell_type": "code",
   "execution_count": 9,
   "metadata": {},
   "outputs": [
    {
     "name": "stderr",
     "output_type": "stream",
     "text": [
      "BayesOpt: 100%|██████████| 50/50 [00:06<00:00,  7.87it/s, param:[11.030011], value:-11.02347147318897, current best param:[17.33480288], current best_value:-17.30758699814659]    \n"
     ]
    },
    {
     "name": "stdout",
     "output_type": "stream",
     "text": [
      "CPU times: user 7.58 s, sys: 10.3 s, total: 17.8 s\n",
      "Wall time: 6.36 s\n"
     ]
    }
   ],
   "source": [
    "BO = bayesopt.BayesOpt(f=f,\n",
    "                       initial_input=np.array([0.]),\n",
    "                       acq=partial(bayesopt.acquisition.scheduledLCB,kappa=15.),\n",
    "                       acq_optim=partial(bayesopt.acquisition_optimizer.AcquisitionSLSQPOptimizer,\n",
    "                                         bounds=np.array([0,18])))\n",
    "%time BO.run_optim(50)"
   ]
  },
  {
   "cell_type": "code",
   "execution_count": 12,
   "metadata": {},
   "outputs": [
    {
     "name": "stdout",
     "output_type": "stream",
     "text": [
      "CPU times: user 45.9 s, sys: 22.2 s, total: 1min 8s\n",
      "Wall time: 17.8 s\n"
     ]
    }
   ],
   "source": [
    "bounds = [{'name': 'x1', 'type': 'continuous', 'domain': (0,18)}]\n",
    "myBopt = GPyOpt.methods.BayesianOptimization(f=f, X=np.array([[0]]),domain=bounds,acquisition_type='LCB')\n",
    "%time myBopt.run_optimization(max_iter=50,eps=0)"
   ]
  },
  {
   "cell_type": "code",
   "execution_count": 13,
   "metadata": {},
   "outputs": [
    {
     "data": {
      "text/plain": [
       "2.6729559748427674"
      ]
     },
     "execution_count": 13,
     "metadata": {},
     "output_type": "execute_result"
    }
   ],
   "source": [
    "17./6.36"
   ]
  },
  {
   "cell_type": "markdown",
   "metadata": {},
   "source": [
    "低い次元ならGridで20倍くらい。   \n",
    "同じアルゴリズム(L-BFGS)だと3倍程度. GpyOptのようにGrad入れたらもっと早いかも?"
   ]
  }
 ],
 "metadata": {
  "kernelspec": {
   "display_name": "Python 3",
   "language": "python",
   "name": "python3"
  },
  "language_info": {
   "codemirror_mode": {
    "name": "ipython",
    "version": 3
   },
   "file_extension": ".py",
   "mimetype": "text/x-python",
   "name": "python",
   "nbconvert_exporter": "python",
   "pygments_lexer": "ipython3",
   "version": "3.7.0"
  }
 },
 "nbformat": 4,
 "nbformat_minor": 4
}
